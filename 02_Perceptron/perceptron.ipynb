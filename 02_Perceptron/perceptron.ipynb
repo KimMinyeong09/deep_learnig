{
 "cells": [
  {
   "cell_type": "markdown",
   "id": "0e5a9b8f",
   "metadata": {},
   "source": [
    "# perceptron "
   ]
  },
  {
   "cell_type": "code",
   "execution_count": 1,
   "id": "c2001821",
   "metadata": {},
   "outputs": [],
   "source": [
    "# AND 함수\n",
    "def AND(x1, x2):\n",
    "    w1, w2, theta = 0.5, 0.5, 0.7\n",
    "    tmp = x1*w1 + x2*w2\n",
    "    if tmp <= theta:\n",
    "        return 0\n",
    "    else:\n",
    "        return 1"
   ]
  },
  {
   "cell_type": "code",
   "execution_count": 2,
   "id": "071e25e7",
   "metadata": {},
   "outputs": [
    {
     "name": "stdout",
     "output_type": "stream",
     "text": [
      "0\n",
      "0\n",
      "0\n",
      "1\n"
     ]
    }
   ],
   "source": [
    "print(AND(0, 0)) # 결과 0\n",
    "print(AND(1, 0)) # 결과 0\n",
    "print(AND(0, 1)) # 결과 0\n",
    "print(AND(1, 1)) # 결과 1"
   ]
  },
  {
   "cell_type": "code",
   "execution_count": null,
   "id": "b76a127d",
   "metadata": {},
   "outputs": [],
   "source": []
  }
 ],
 "metadata": {
  "kernelspec": {
   "display_name": "study_deeplearning",
   "language": "python",
   "name": "python3"
  },
  "language_info": {
   "codemirror_mode": {
    "name": "ipython",
    "version": 3
   },
   "file_extension": ".py",
   "mimetype": "text/x-python",
   "name": "python",
   "nbconvert_exporter": "python",
   "pygments_lexer": "ipython3",
   "version": "3.7.16"
  },
  "vscode": {
   "interpreter": {
    "hash": "a4e02711cdde6731519b79f50ea9a972935d27778e5fadfbbb23bf6c590101e8"
   }
  }
 },
 "nbformat": 4,
 "nbformat_minor": 5
}
