{
 "cells": [
  {
   "attachments": {},
   "cell_type": "markdown",
   "id": "0e5a9b8f",
   "metadata": {},
   "source": [
    "# perceptron \n",
    "### 간단한 구현\n",
    "- 기본적인 퍼셉트론의 원리에 대한 수식\n",
    "$$\n",
    "y = \\begin{cases} \n",
    "  0 \\ (w_1x_1 + w_2x_2 \\leq \\theta) \\\\\n",
    "  1 \\ (w_1x_1 + w_2x_2 > \\theta)\n",
    "\\end{cases}\n",
    "$$"
   ]
  },
  {
   "cell_type": "code",
   "execution_count": 1,
   "id": "c2001821",
   "metadata": {},
   "outputs": [],
   "source": [
    "# AND 함수\n",
    "def AND(x1, x2):\n",
    "    w1, w2, theta = 0.5, 0.5, 0.7\n",
    "    tmp = x1*w1 + x2*w2\n",
    "    if tmp <= theta:\n",
    "        return 0\n",
    "    else:\n",
    "        return 1"
   ]
  },
  {
   "cell_type": "code",
   "execution_count": 2,
   "id": "071e25e7",
   "metadata": {},
   "outputs": [
    {
     "name": "stdout",
     "output_type": "stream",
     "text": [
      "0\n",
      "0\n",
      "0\n",
      "1\n"
     ]
    }
   ],
   "source": [
    "print(AND(0, 0)) # 결과 0\n",
    "print(AND(1, 0)) # 결과 0\n",
    "print(AND(0, 1)) # 결과 0\n",
    "print(AND(1, 1)) # 결과 1"
   ]
  },
  {
   "attachments": {},
   "cell_type": "markdown",
   "id": "3e439af3",
   "metadata": {},
   "source": [
    "### 가중치와 편향(bias) 도입\n",
    "\n",
    "- 앞서 본 수식에서 $\\theta$를 -b로 치환하면 다음과 같다.\n",
    "\n",
    "$$\n",
    "y = \\begin{cases} \n",
    "  0 \\ (b + w_1x_1 + w_2x_2 \\leq 0) \\\\\n",
    "  1 \\ (b + w_1x_1 + w_2x_2 > 0)\n",
    "\\end{cases}\n",
    "$$"
   ]
  },
  {
   "cell_type": "code",
   "execution_count": 5,
   "id": "b76a127d",
   "metadata": {},
   "outputs": [
    {
     "name": "stdout",
     "output_type": "stream",
     "text": [
      ">>> 입력신호 * 가중치: [0.  0.5]\n",
      ">>> 입력신호 * 가중치의 합: 0.5\n",
      ">>> 입력신호 * 가중치와 편향의 합: -0.19999999999999996\n"
     ]
    }
   ],
   "source": [
    "import numpy as np\n",
    "x = np.array([0, 1])        # 입력 신호\n",
    "w = np.array([0.5 ,0.5])    # 가중치\n",
    "b = -0.7                    # 편향\n",
    "\n",
    "print('>>> 입력신호 * 가중치:', w*x)\n",
    "print('>>> 입력신호 * 가중치의 합:', np.sum(w*x))\n",
    "print('>>> 입력신호 * 가중치와 편향의 합:', np.sum(w*x) + b)"
   ]
  },
  {
   "cell_type": "code",
   "execution_count": 7,
   "id": "15d1778b",
   "metadata": {},
   "outputs": [],
   "source": [
    "# 가중치와 편향을 도입한 AND 함수\n",
    "def AND_add_bias(x1, x2):\n",
    "    x = np.array([x1, x2]) \n",
    "    w = np.array([0.5 ,0.5]) \n",
    "    b = -0.7   \n",
    "    tmp = np.sum(w*x) + b\n",
    "    if tmp <= 0:\n",
    "        return 0\n",
    "    else:\n",
    "        return 1"
   ]
  },
  {
   "cell_type": "code",
   "execution_count": 8,
   "id": "ad83a289",
   "metadata": {},
   "outputs": [
    {
     "name": "stdout",
     "output_type": "stream",
     "text": [
      "0\n",
      "0\n",
      "0\n",
      "1\n"
     ]
    }
   ],
   "source": [
    "print(AND_add_bias(0, 0)) # 결과 0\n",
    "print(AND_add_bias(1, 0)) # 결과 0\n",
    "print(AND_add_bias(0, 1)) # 결과 0\n",
    "print(AND_add_bias(1, 1)) # 결과 1"
   ]
  },
  {
   "attachments": {},
   "cell_type": "markdown",
   "id": "6e380ca2",
   "metadata": {},
   "source": [
    "### NAND, OR 게이트 구현"
   ]
  },
  {
   "cell_type": "code",
   "execution_count": 10,
   "id": "246d7d01",
   "metadata": {},
   "outputs": [
    {
     "name": "stdout",
     "output_type": "stream",
     "text": [
      "1\n",
      "1\n",
      "1\n",
      "0\n"
     ]
    }
   ],
   "source": [
    "# NAND 함수\n",
    "def NAND(x1, x2):\n",
    "    x = np.array([x1, x2]) \n",
    "    w = np.array([-0.5 ,-0.5]) \n",
    "    b = 0.7   \n",
    "    tmp = np.sum(w*x) + b\n",
    "    if tmp <= 0:\n",
    "        return 0\n",
    "    else:\n",
    "        return 1\n",
    "\n",
    "print(NAND(0, 0)) # 결과 1\n",
    "print(NAND(1, 0)) # 결과 1\n",
    "print(NAND(0, 1)) # 결과 1\n",
    "print(NAND(1, 1)) # 결과 0"
   ]
  },
  {
   "cell_type": "code",
   "execution_count": 12,
   "id": "141b4d73",
   "metadata": {},
   "outputs": [
    {
     "name": "stdout",
     "output_type": "stream",
     "text": [
      "0\n",
      "1\n",
      "1\n",
      "1\n"
     ]
    }
   ],
   "source": [
    "# NAND 함수\n",
    "def OR(x1, x2):\n",
    "    x = np.array([x1, x2]) \n",
    "    w = np.array([0.5 ,0.5]) \n",
    "    b = -0.2   \n",
    "    tmp = np.sum(w*x) + b\n",
    "    if tmp <= 0:\n",
    "        return 0\n",
    "    else:\n",
    "        return 1\n",
    "\n",
    "print(OR(0, 0)) # 결과 0\n",
    "print(OR(1, 0)) # 결과 1\n",
    "print(OR(0, 1)) # 결과 1\n",
    "print(OR(1, 1)) # 결과 1"
   ]
  }
 ],
 "metadata": {
  "kernelspec": {
   "display_name": "base",
   "language": "python",
   "name": "python3"
  },
  "language_info": {
   "codemirror_mode": {
    "name": "ipython",
    "version": 3
   },
   "file_extension": ".py",
   "mimetype": "text/x-python",
   "name": "python",
   "nbconvert_exporter": "python",
   "pygments_lexer": "ipython3",
   "version": "3.9.13"
  },
  "vscode": {
   "interpreter": {
    "hash": "a077222d77dfe082b8f1dd562ad70e458ac2ab76993a0b248ab0476e32e9e8dd"
   }
  }
 },
 "nbformat": 4,
 "nbformat_minor": 5
}
